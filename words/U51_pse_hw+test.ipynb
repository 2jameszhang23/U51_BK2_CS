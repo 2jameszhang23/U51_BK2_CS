{
 "cells": [
  {
   "cell_type": "markdown",
   "id": "ac548b23-7325-443c-934d-ebff3ac747e4",
   "metadata": {},
   "source": [
    "作业三题"
   ]
  },
  {
   "cell_type": "code",
   "execution_count": null,
   "id": "1c7fee2c-bac7-4e4c-8a05-de1d2683b555",
   "metadata": {},
   "outputs": [],
   "source": [
    "FOR i<-1 TO 3\n",
    "    IF i=1\n",
    "        THEN\n",
    "            OUTPUT \"Friend's house\"\n",
    "        ELSE\n",
    "            IF i=2\n",
    "                THEN\n",
    "                    OUTPUT \"Museum, history tourist spots\"\n",
    "                ELSE\n",
    "                    OUTPUT \"Metropolitans\"\n",
    "            ENDIF\n",
    "    ENDIF\n",
    "NEXT i"
   ]
  },
  {
   "cell_type": "code",
   "execution_count": null,
   "id": "7af12ceb-fc89-4429-82d0-677f6b2e39da",
   "metadata": {},
   "outputs": [],
   "source": [
    "DECLARE n, i AS INTEGER\n",
    "DECLARE isPrime AS BOOLEAN\n",
    "\n",
    "INPUT n\n",
    "\n",
    "IF n <= 1 \n",
    "    THEN\n",
    "        OUTPUT \"Not Prime\"\n",
    "ELSE\n",
    "    isPrime ← TRUE\n",
    "    FOR i ← 2 TO SQRT(n) DO\n",
    "        IF n MOD i = 0 \n",
    "            THEN\n",
    "                isPrime ← FALSE\n",
    "        ENDIF\n",
    "    NEXT i\n",
    "    IF isPrime = TRUE \n",
    "        THEN\n",
    "            OUTPUT \"Prime\"\n",
    "        ELSE\n",
    "            OUTPUT \"Not Prime\"\n",
    "    ENDIF\n",
    "ENDIF"
   ]
  },
  {
   "cell_type": "markdown",
   "id": "3b924dc4-08ef-44d6-b9ef-80b50ed01fc5",
   "metadata": {},
   "source": [
    "另一个有趣的质数算法--埃拉托斯特尼筛法，有兴趣可以尝试理解。\n",
    "课外内容，课上不会讲(格式没按课本上来，学习思路就行）"
   ]
  },
  {
   "cell_type": "code",
   "execution_count": null,
   "id": "ee915f97-7315-4e56-b695-7fd74ca23c8e",
   "metadata": {},
   "outputs": [],
   "source": [
    "function is_prime(n):\n",
    "    if n <= 1:\n",
    "        return FALSE\n",
    "    \n",
    "    primes ← array of size (n + 1) initialized to TRUE\n",
    "    \n",
    "    primes[0]←FALSE\n",
    "    primes[1]←FALSE\n",
    "    \n",
    "    for i←2 to sqrt(n):\n",
    "        if primes[i]=TRUE:\n",
    "            for j←i*i to n step i:\n",
    "                primes[j]←FALSE\n",
    "    \n",
    "    return primes[n]"
   ]
  },
  {
   "cell_type": "code",
   "execution_count": null,
   "id": "12e74d11-1ae1-44b6-943d-242bb0ae0568",
   "metadata": {},
   "outputs": [],
   "source": [
    "1  real---string\n",
    "10 100---0\n",
    "12 case of---repeat\n",
    "27 count---continue"
   ]
  },
  {
   "cell_type": "markdown",
   "id": "b8f4e947-0213-4f5f-889f-d774ee99926f",
   "metadata": {},
   "source": [
    "考试六题"
   ]
  },
  {
   "cell_type": "code",
   "execution_count": null,
   "id": "98bb260e-990e-4095-8d78-df9c1e9bf07d",
   "metadata": {},
   "outputs": [],
   "source": [
    "INPUT day\n",
    "\n",
    "CASE OF day\n",
    "    1:OUTPUT 'Monday'\n",
    "    2:OUTPUT 'Tuesday'\n",
    "    ...\n",
    "    OTHERWISE OUTPUT 'Invalid'\n",
    "ENDCASE"
   ]
  },
  {
   "cell_type": "code",
   "execution_count": null,
   "id": "7d6d41cf-f1a6-4a2c-8cc3-1278ff5ce8f9",
   "metadata": {},
   "outputs": [],
   "source": [
    "INPUT age\n",
    "\n",
    "IF age<0\n",
    "    THEN \n",
    "        OUTPUT \"Invalid data\"\n",
    "    ELSE\n",
    "        IF age>=18:\n",
    "            THEN\n",
    "                OUTPUT \"eligible\"\n",
    "            ELSE\n",
    "                OUTPUT \"not eligible\"\n",
    "        ENDIF\n",
    "ENDIF"
   ]
  },
  {
   "cell_type": "code",
   "execution_count": null,
   "id": "4a7a45df-5493-4d6d-8b66-46ff5e953377",
   "metadata": {},
   "outputs": [],
   "source": [
    "INPUT year\n",
    "\n",
    "IF year MOD 4 = 0 THEN\n",
    "    IF year MOD 100 = 0 THEN\n",
    "        IF year MOD 400 = 0 THEN\n",
    "            OUTPUT \"It is a leap year.\"\n",
    "        ELSE\n",
    "            OUTPUT \"It is not a leap year.\"\n",
    "        ENDIF\n",
    "    ELSE\n",
    "        OUTPUT \"It is a leap year.\"\n",
    "    ENDIF\n",
    "ELSE\n",
    "    OUTPUT \"It is not a leap year.\"\n",
    "ENDIF"
   ]
  },
  {
   "cell_type": "code",
   "execution_count": null,
   "id": "79cfb5b7-7b9e-4eff-b23e-e87be108c0e6",
   "metadata": {},
   "outputs": [],
   "source": [
    "sum ← 0\n",
    "\n",
    "REPEAT\n",
    "    OUTPUT \"Enter a number:\"\n",
    "    INPUT num\n",
    "    IF num <> -1 THEN\n",
    "        sum ← sum + num\n",
    "    ENDIF\n",
    "UNTIL num = -1\n",
    "OUTPUT \"Total sum:\", sum"
   ]
  },
  {
   "cell_type": "code",
   "execution_count": null,
   "id": "587cd20b-bb0e-4bc4-980b-e6c3d1b322be",
   "metadata": {},
   "outputs": [],
   "source": [
    "INPUT N\n",
    "factorial ← 1\n",
    "\n",
    "FOR i ← 1 TO N\n",
    "    factorial ← factorial * i\n",
    "NEXT i\n",
    "\n",
    "OUTPUT \"Factorial is:\", factorial"
   ]
  },
  {
   "cell_type": "code",
   "execution_count": null,
   "id": "69e50e8a-7f6f-4794-b63c-80285e2f5766",
   "metadata": {},
   "outputs": [],
   "source": [
    "INPUT N\n",
    "\n",
    "a ← 0\n",
    "b ← 1\n",
    "IF N = 1 THEN\n",
    "    OUTPUT \"The Fibonacci number is:\", a\n",
    "ELSE IF N = 2 THEN\n",
    "    OUTPUT \"The Fibonacci number is:\", b\n",
    "ELSE\n",
    "    FOR i ← 3 TO N\n",
    "        temp ← a + b\n",
    "        a ← b\n",
    "        b ← temp\n",
    "    NEXT i\n",
    "    OUTPUT \"The Fibonacci number is:\", b\n",
    "ENDIF"
   ]
  },
  {
   "cell_type": "markdown",
   "id": "004a096b-cace-4be4-9eaf-0f00424b1c9e",
   "metadata": {},
   "source": [
    "斐波那契递归实现"
   ]
  },
  {
   "cell_type": "code",
   "execution_count": 1,
   "id": "7ead45fd-7a02-4845-8074-9bacae1d2939",
   "metadata": {},
   "outputs": [
    {
     "data": {
      "text/plain": [
       "2"
      ]
     },
     "execution_count": 1,
     "metadata": {},
     "output_type": "execute_result"
    }
   ],
   "source": [
    "def fibo(n):\n",
    "    if n==1:\n",
    "        return 0\n",
    "    elif n==2:\n",
    "        return 1\n",
    "    else:\n",
    "        return fibo(n-1)+fibo(n-2)\n",
    "fibo(4)"
   ]
  },
  {
   "cell_type": "code",
   "execution_count": null,
   "id": "e83c3512-1656-41bf-bbe7-ab30a5562e70",
   "metadata": {},
   "outputs": [],
   "source": []
  }
 ],
 "metadata": {
  "kernelspec": {
   "display_name": "Python 3",
   "language": "python",
   "name": "python3"
  },
  "language_info": {
   "codemirror_mode": {
    "name": "ipython",
    "version": 3
   },
   "file_extension": ".py",
   "mimetype": "text/x-python",
   "name": "python",
   "nbconvert_exporter": "python",
   "pygments_lexer": "ipython3",
   "version": "3.8.8"
  }
 },
 "nbformat": 4,
 "nbformat_minor": 5
}
